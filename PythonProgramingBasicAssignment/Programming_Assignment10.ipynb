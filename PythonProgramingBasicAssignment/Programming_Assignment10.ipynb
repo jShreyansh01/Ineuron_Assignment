{
 "cells": [
  {
   "cell_type": "markdown",
   "id": "d82d84f0",
   "metadata": {},
   "source": [
    "1.\tWrite a Python program to find sum of elements in list?\n",
    "2.\tWrite a Python program to  Multiply all numbers in the list?\n",
    "3.\tWrite a Python program to find smallest number in a list?\n",
    "4.\tWrite a Python program to find largest number in a list?\n",
    "5.\tWrite a Python program to find second largest number in a list?\n",
    "6.\tWrite a Python program to find N largest elements from a list?\n",
    "7.\tWrite a Python program to print even numbers in a list?\n",
    "8.\tWrite a Python program to print odd numbers in a List?\n",
    "9.\tWrite a Python program to Remove empty List from List?\n",
    "10.\tWrite a Python program to Cloning or Copying a list?\n",
    "11.\tWrite a Python program to Count occurrences of an element in a list?"
   ]
  },
  {
   "cell_type": "code",
   "execution_count": 1,
   "id": "36a9613d",
   "metadata": {},
   "outputs": [],
   "source": [
    "#list = input(\"enter space separated elements of list\")\n",
    "list = [2,56,7,9,34,78,90,10,2,2]"
   ]
  },
  {
   "cell_type": "markdown",
   "id": "9cc1d025",
   "metadata": {},
   "source": [
    "#### 1. Write a Python program to find sum of elements in list?"
   ]
  },
  {
   "cell_type": "code",
   "execution_count": 2,
   "id": "f5192725",
   "metadata": {},
   "outputs": [
    {
     "name": "stdout",
     "output_type": "stream",
     "text": [
      "290\n"
     ]
    }
   ],
   "source": [
    "def listSum(l):\n",
    "    if len(l)==1:\n",
    "        return l[0]\n",
    "        \n",
    "    return l[0] + listSum(l[1:])\n",
    "\n",
    "print(listSum(list))"
   ]
  },
  {
   "cell_type": "markdown",
   "id": "4892ab88",
   "metadata": {},
   "source": [
    "#### 2. Write a Python program to Multiply all numbers in the list?"
   ]
  },
  {
   "cell_type": "code",
   "execution_count": 3,
   "id": "ca9ec951",
   "metadata": {},
   "outputs": [
    {
     "name": "stdout",
     "output_type": "stream",
     "text": [
      "290\n"
     ]
    }
   ],
   "source": [
    "def listMul(l):\n",
    "    if len(l)==1:\n",
    "        return l[0]\n",
    "        \n",
    "    return l[0] * listSum(l[1:])\n",
    "\n",
    "print(listSum(list))"
   ]
  },
  {
   "cell_type": "markdown",
   "id": "d7868b0e",
   "metadata": {},
   "source": [
    "#### 3. Write a Python program to find smallest number in a list?"
   ]
  },
  {
   "cell_type": "code",
   "execution_count": 4,
   "id": "6feec034",
   "metadata": {},
   "outputs": [
    {
     "data": {
      "text/plain": [
       "2"
      ]
     },
     "execution_count": 4,
     "metadata": {},
     "output_type": "execute_result"
    }
   ],
   "source": [
    "def smallest(l):\n",
    "    result=999999\n",
    "    for i in l:\n",
    "        if result>i:\n",
    "            result = i\n",
    "    return result\n",
    "\n",
    "smallest(list)"
   ]
  },
  {
   "cell_type": "markdown",
   "id": "3836cdf1",
   "metadata": {},
   "source": [
    "#### 4.Write a Python program to find largest number in a list?"
   ]
  },
  {
   "cell_type": "code",
   "execution_count": 5,
   "id": "12340396",
   "metadata": {},
   "outputs": [
    {
     "data": {
      "text/plain": [
       "90"
      ]
     },
     "execution_count": 5,
     "metadata": {},
     "output_type": "execute_result"
    }
   ],
   "source": [
    "def largest(l):\n",
    "    result=-999999\n",
    "    for i in l:\n",
    "        if result<i:\n",
    "            result = i\n",
    "    return result\n",
    "\n",
    "largest(list)"
   ]
  },
  {
   "cell_type": "markdown",
   "id": "bc88015e",
   "metadata": {},
   "source": [
    "#### 5.Write a Python program to find second largest number in a list?"
   ]
  },
  {
   "cell_type": "code",
   "execution_count": 6,
   "id": "3090c4a9",
   "metadata": {},
   "outputs": [
    {
     "data": {
      "text/plain": [
       "78"
      ]
     },
     "execution_count": 6,
     "metadata": {},
     "output_type": "execute_result"
    }
   ],
   "source": [
    "def secondLargest(l):\n",
    "    largest = -999999\n",
    "    second = -999999\n",
    "    for i in l:\n",
    "        if i > largest:\n",
    "            second = largest\n",
    "            largest = i\n",
    "        elif i<largest and i>second:\n",
    "            second = i\n",
    "    return second\n",
    "\n",
    "secondLargest(list)"
   ]
  },
  {
   "cell_type": "markdown",
   "id": "a47073ed",
   "metadata": {},
   "source": [
    "#### 6.Write a Python program to find N largest elements from a list?"
   ]
  },
  {
   "cell_type": "code",
   "execution_count": 7,
   "id": "20d345cb",
   "metadata": {},
   "outputs": [
    {
     "data": {
      "text/plain": [
       "34"
      ]
     },
     "execution_count": 7,
     "metadata": {},
     "output_type": "execute_result"
    }
   ],
   "source": [
    "def nthLargest(l,n):\n",
    "    l1=l\n",
    "    l1.sort()\n",
    "    return l1[-n]\n",
    "\n",
    "nthLargest(list,4)"
   ]
  },
  {
   "cell_type": "markdown",
   "id": "3c7f38f9",
   "metadata": {},
   "source": [
    "#### 7.Write a Python program to print even numbers in a list?"
   ]
  },
  {
   "cell_type": "code",
   "execution_count": 8,
   "id": "def1cebd",
   "metadata": {},
   "outputs": [
    {
     "name": "stdout",
     "output_type": "stream",
     "text": [
      "2,2,2,10,34,56,78,90,"
     ]
    }
   ],
   "source": [
    "def even(l):\n",
    "    for i in list:\n",
    "        if i % 2 == 0:\n",
    "            print(i, end=\",\")\n",
    "even(list)"
   ]
  },
  {
   "cell_type": "markdown",
   "id": "e8545b09",
   "metadata": {},
   "source": [
    "#### 8.\tWrite a Python program to print odd numbers in a List?"
   ]
  },
  {
   "cell_type": "code",
   "execution_count": 9,
   "id": "b7f68f7b",
   "metadata": {},
   "outputs": [
    {
     "name": "stdout",
     "output_type": "stream",
     "text": [
      "7,9,"
     ]
    }
   ],
   "source": [
    "def odd(l):\n",
    "    for i in list:\n",
    "        if i % 2 != 0:\n",
    "            print(i, end=\",\")\n",
    "odd(list)"
   ]
  },
  {
   "cell_type": "markdown",
   "id": "6f3ead19",
   "metadata": {},
   "source": [
    "#### 9.\tWrite a Python program to Remove empty List from List?"
   ]
  },
  {
   "cell_type": "code",
   "execution_count": 10,
   "id": "67535086",
   "metadata": {},
   "outputs": [
    {
     "name": "stdout",
     "output_type": "stream",
     "text": [
      "[2, 3, 4, [2, 34], [4, 5, 8, 3]]\n"
     ]
    }
   ],
   "source": [
    "def removeEmptyList(l):\n",
    "    l1=[x for x in l if x]\n",
    "    print(l1)\n",
    "    \n",
    "a = [2,3,4,[2,34],[],[4,5,8,3],[]]\n",
    "removeEmptyList(a)"
   ]
  },
  {
   "cell_type": "markdown",
   "id": "60b4984c",
   "metadata": {},
   "source": [
    "#### 10.\tWrite a Python program to Cloning or Copying a list?"
   ]
  },
  {
   "cell_type": "code",
   "execution_count": 11,
   "id": "12c8af1b",
   "metadata": {},
   "outputs": [
    {
     "name": "stdout",
     "output_type": "stream",
     "text": [
      "[2, 2, 2, 7, 9, 10, 34, 56, 78, 90]\n"
     ]
    }
   ],
   "source": [
    "def clone(l):\n",
    "    return l[:]\n",
    "\n",
    "clonelist = clone(list)\n",
    "print(clonelist)\n"
   ]
  },
  {
   "cell_type": "markdown",
   "id": "90c269d7",
   "metadata": {},
   "source": [
    "#### 11.\tWrite a Python program to Count occurrences of an element in a list?"
   ]
  },
  {
   "cell_type": "code",
   "execution_count": 12,
   "id": "f419ee88",
   "metadata": {},
   "outputs": [
    {
     "data": {
      "text/plain": [
       "3"
      ]
     },
     "execution_count": 12,
     "metadata": {},
     "output_type": "execute_result"
    }
   ],
   "source": [
    "def count(l,n):\n",
    "    result = 0\n",
    "    for i in l:\n",
    "        if i == n:\n",
    "            result += 1\n",
    "    return result\n",
    "\n",
    "count(list,2)"
   ]
  },
  {
   "cell_type": "code",
   "execution_count": null,
   "id": "6d734669",
   "metadata": {},
   "outputs": [],
   "source": []
  }
 ],
 "metadata": {
  "kernelspec": {
   "display_name": "Python 3",
   "language": "python",
   "name": "python3"
  },
  "language_info": {
   "codemirror_mode": {
    "name": "ipython",
    "version": 3
   },
   "file_extension": ".py",
   "mimetype": "text/x-python",
   "name": "python",
   "nbconvert_exporter": "python",
   "pygments_lexer": "ipython3",
   "version": "3.8.8"
  }
 },
 "nbformat": 4,
 "nbformat_minor": 5
}
