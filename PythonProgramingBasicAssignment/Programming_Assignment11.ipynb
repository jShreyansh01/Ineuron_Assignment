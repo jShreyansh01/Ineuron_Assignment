{
 "cells": [
  {
   "cell_type": "markdown",
   "id": "289e97f4",
   "metadata": {},
   "source": [
    "1.\tWrite a Python program to find words which are greater than given length k?\n",
    "2.\tWrite a Python program for removing i-th character from a string?\n",
    "3.\tWrite a Python program to split and join a string?\n",
    "4.\tWrite a Python to check if a given string is binary string or not?\n",
    "5.\tWrite a Python program to find uncommon words from two Strings?\n",
    "6.\tWrite a Python to find all duplicate characters in string?\n",
    "7.\tWrite a Python Program to check if a string contains any special character?"
   ]
  },
  {
   "cell_type": "markdown",
   "id": "af16a894",
   "metadata": {},
   "source": [
    "1.\tWrite a Python program to find words which are greater than given length k?"
   ]
  },
  {
   "cell_type": "code",
   "execution_count": 3,
   "id": "e9161d31",
   "metadata": {},
   "outputs": [
    {
     "name": "stdout",
     "output_type": "stream",
     "text": [
      "enter words: hello from the other side\n",
      "enter value of k: 3\n",
      "hello from other side "
     ]
    }
   ],
   "source": [
    "words = [x for x in input(\"enter words: \").split()]\n",
    "k = int(input(\"enter value of k: \"))\n",
    "\n",
    "for word in words:\n",
    "    if len(word)>k:\n",
    "        print(word, end= \" \")"
   ]
  },
  {
   "cell_type": "markdown",
   "id": "f7b57c94",
   "metadata": {},
   "source": [
    "2.\tWrite a Python program for removing i-th character from a string?"
   ]
  },
  {
   "cell_type": "code",
   "execution_count": 7,
   "id": "fd4ee1de",
   "metadata": {},
   "outputs": [
    {
     "name": "stdout",
     "output_type": "stream",
     "text": [
      "enter a string: shreyansh\n",
      "enter ith position: 4\n",
      "shryansh\n"
     ]
    }
   ],
   "source": [
    "string = input(\"enter a string: \")\n",
    "n = int(input(\"enter ith position: \"))\n",
    "\n",
    "string = string[:i]+string[i+1:]\n",
    "print(string)\n",
    "    "
   ]
  },
  {
   "cell_type": "markdown",
   "id": "33c01fda",
   "metadata": {},
   "source": [
    "3.\tWrite a Python program to split and join a string?"
   ]
  },
  {
   "cell_type": "code",
   "execution_count": 13,
   "id": "c330ea45",
   "metadata": {},
   "outputs": [
    {
     "name": "stdout",
     "output_type": "stream",
     "text": [
      "enter string: hello from the other side\n",
      "['hello', 'from', 'the', 'other', 'side']\n",
      "hello from the other side\n"
     ]
    }
   ],
   "source": [
    "def split(s):\n",
    "    l= s.split(' ')\n",
    "    return l\n",
    "  \n",
    "def join(l):\n",
    "    string = ' '.join(l)\n",
    "    return string\n",
    "  \n",
    "\n",
    "string = input(\"enter string: \")\n",
    "      \n",
    "split_string = split(string)\n",
    "print(split_string)\n",
    "  \n",
    "new_string = join(split_string)\n",
    "print(new_string)"
   ]
  },
  {
   "cell_type": "markdown",
   "id": "eb158d3d",
   "metadata": {},
   "source": [
    "4.\tWrite a Python to check if a given string is binary string or not?"
   ]
  },
  {
   "cell_type": "code",
   "execution_count": 5,
   "id": "bfd93f99",
   "metadata": {},
   "outputs": [
    {
     "name": "stdout",
     "output_type": "stream",
     "text": [
      "enter string: 001010010010\n",
      "string is binary\n"
     ]
    }
   ],
   "source": [
    "string = input(\"enter string: \")\n",
    "binary = set(string)\n",
    "if binary == {'0','1'} or binary == {'0'} or binary == {'1'}:\n",
    "    print(\"string is binary\")\n",
    "else:\n",
    "    print(\"not a binary string\")"
   ]
  },
  {
   "cell_type": "markdown",
   "id": "6bb9f141",
   "metadata": {},
   "source": [
    "5.\tWrite a Python program to find uncommon words from two Strings?"
   ]
  },
  {
   "cell_type": "code",
   "execution_count": 18,
   "id": "a9790dfe",
   "metadata": {},
   "outputs": [
    {
     "name": "stdout",
     "output_type": "stream",
     "text": [
      "enter first string: hellow from the other side\n",
      "enter first string: hellow how is there on the other side\n",
      " uncommon words\n",
      "{'how', 'there', 'is', 'on', 'from'}\n"
     ]
    }
   ],
   "source": [
    "string1 = input(\"enter first string: \").split()\n",
    "string2 = input(\"enter first string: \").split()\n",
    "\n",
    "common1 =set(string1)-set(string2)\n",
    "common2 =set(string2)-set(string1)\n",
    "common = common1.union(common2)\n",
    "if len(common) == 0:\n",
    "    print(\" nothing is common\")\n",
    "else:\n",
    "    print(\" uncommon words\")\n",
    "    print(common)"
   ]
  },
  {
   "cell_type": "markdown",
   "id": "86736e79",
   "metadata": {},
   "source": [
    "6.\tWrite a Python to find all duplicate characters in string?"
   ]
  },
  {
   "cell_type": "code",
   "execution_count": 25,
   "id": "6ab04c8a",
   "metadata": {},
   "outputs": [
    {
     "name": "stdout",
     "output_type": "stream",
     "text": [
      "enter string: shreyansh\n",
      "s h \n"
     ]
    }
   ],
   "source": [
    "string = input(\"enter string: \")\n",
    "duplicate =''\n",
    "for i in range(len(string)-1):\n",
    "    for j in range(i+1,len(string)):\n",
    "        if string[i] == string[j]:\n",
    "            duplicate += string[i]+\" \"\n",
    "            break;\n",
    "print(duplicate)"
   ]
  },
  {
   "cell_type": "markdown",
   "id": "2a914b4c",
   "metadata": {},
   "source": [
    "7.\tWrite a Python Program to check if a string contains any special character?"
   ]
  },
  {
   "cell_type": "code",
   "execution_count": 31,
   "id": "d8bee80e",
   "metadata": {},
   "outputs": [
    {
     "name": "stdout",
     "output_type": "stream",
     "text": [
      "enter string: xyz@gmail.com\n",
      "contains special character\n"
     ]
    }
   ],
   "source": [
    "specialCharacter = '''\" !#$%&'()*+,-./:;<=>?@[\\]^_`{|}~'''\n",
    "string  = input(\"enter string: \")\n",
    "for char in string:\n",
    "    if char in specialCharacter:\n",
    "        print(\"contains special character\")\n",
    "        break\n",
    "else:\n",
    "    print('does not contain special character ')"
   ]
  }
 ],
 "metadata": {
  "kernelspec": {
   "display_name": "Python 3",
   "language": "python",
   "name": "python3"
  },
  "language_info": {
   "codemirror_mode": {
    "name": "ipython",
    "version": 3
   },
   "file_extension": ".py",
   "mimetype": "text/x-python",
   "name": "python",
   "nbconvert_exporter": "python",
   "pygments_lexer": "ipython3",
   "version": "3.8.8"
  }
 },
 "nbformat": 4,
 "nbformat_minor": 5
}
