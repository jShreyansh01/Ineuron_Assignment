{
 "cells": [
  {
   "cell_type": "markdown",
   "metadata": {},
   "source": [
    "## 1.\tWrite a Python Program to Find LCM?"
   ]
  },
  {
   "cell_type": "code",
   "execution_count": 1,
   "metadata": {},
   "outputs": [
    {
     "name": "stdout",
     "output_type": "stream",
     "text": [
      "4\n",
      "6\n",
      "12.0\n"
     ]
    }
   ],
   "source": [
    "def gcd(a,b):\n",
    "    if a == 0:\n",
    "        return b\n",
    "    return gcd(b % a, a)\n",
    " \n",
    "def lcm(a,b):\n",
    "    return (a / gcd(a,b))* b\n",
    " \n",
    "num1 = int(input())\n",
    "num2 = int((input()))\n",
    "\n",
    "print(lcm(num1,num2))"
   ]
  },
  {
   "cell_type": "markdown",
   "metadata": {},
   "source": [
    "## 2.\tWrite a Python Program to Find HCF?"
   ]
  },
  {
   "cell_type": "code",
   "execution_count": 2,
   "metadata": {},
   "outputs": [
    {
     "name": "stdout",
     "output_type": "stream",
     "text": [
      "4\n",
      "6\n",
      "2\n"
     ]
    }
   ],
   "source": [
    "def gcd(a,b):\n",
    "    if a == 0:\n",
    "        return b\n",
    "    return gcd(b % a, a)\n",
    "\n",
    "num1 = int(input())\n",
    "num2 = int((input()))\n",
    "\n",
    "print(gcd(num1,num2))"
   ]
  },
  {
   "cell_type": "markdown",
   "metadata": {},
   "source": [
    "## 3.\tWrite a Python Program to Convert Decimal to Binary, Octal and Hexadecimal?"
   ]
  },
  {
   "cell_type": "code",
   "execution_count": 5,
   "metadata": {},
   "outputs": [
    {
     "name": "stdout",
     "output_type": "stream",
     "text": [
      "345\n",
      "345 to Binary is 0b101011001 \n",
      "345 to Octal 0o531 \n",
      "345 to Hexadecimal is 0x159 \n"
     ]
    }
   ],
   "source": [
    "decimal = int(input())\n",
    "print(\"{} to Binary is {} \". format(decimal,bin(decimal)))\n",
    "print(\"{} to Octal {} \". format(decimal,oct(decimal)))\n",
    "print(\"{} to Hexadecimal is {} \". format(decimal,hex(decimal)))"
   ]
  },
  {
   "cell_type": "markdown",
   "metadata": {},
   "source": [
    "## 4.\tWrite a Python Program To Find ASCII value of a character?"
   ]
  },
  {
   "cell_type": "code",
   "execution_count": 4,
   "metadata": {},
   "outputs": [
    {
     "name": "stdout",
     "output_type": "stream",
     "text": [
      "enter a character: k\n",
      "107\n"
     ]
    }
   ],
   "source": [
    "print(ord(input(\"enter a character: \")))"
   ]
  },
  {
   "cell_type": "markdown",
   "metadata": {},
   "source": [
    "## 5.\tWrite a Python Program to Make a Simple Calculator with 4 basic mathematical operations?"
   ]
  },
  {
   "cell_type": "code",
   "execution_count": 2,
   "metadata": {},
   "outputs": [
    {
     "name": "stdout",
     "output_type": "stream",
     "text": [
      "Select operation -\n",
      "1. Add\n",
      "2. Sub\n",
      "3. Mul\n",
      "4. Div\n",
      "\n",
      "3\n",
      "enter first number5\n",
      "enter second number6\n",
      "5 * 6 = 30\n"
     ]
    }
   ],
   "source": [
    "def add(a,b):\n",
    "    return a + b\n",
    "\n",
    "def sub(a,b):\n",
    "    return a - b\n",
    "\n",
    "def mul(a,b):\n",
    "    return(a*b)\n",
    "\n",
    "def div(a,b):\n",
    "    return(a/b)\n",
    "\n",
    "print (\"Select operation -\\n\" \\\n",
    "        \"1. Add\\n\" \\\n",
    "        \"2. Sub\\n\" \\\n",
    "        \"3. Mul\\n\" \\\n",
    "        \"4. Div\\n\")\n",
    "operation = int(input())\n",
    "num1 = int(input(\"enter first number\"))\n",
    "num2 = int(input(\"enter second number\"))\n",
    "\n",
    "if operation == 1:\n",
    "    print(num1, \"+\", num2, \"=\",\n",
    "                    add(num1, num2))\n",
    "elif operation == 2:\n",
    "    print(num1, \"-\", num2, \"=\",\n",
    "                    sub(num1, num2))\n",
    "elif operation == 3:\n",
    "    print(num1, \"*\", num2, \"=\",\n",
    "                    mul(num1, num2))\n",
    "elif operation == 4:\n",
    "    print(num1, \"/\", num2, \"=\",\n",
    "                    div(num1, num2))\n",
    "else:\n",
    "    print(\"Invalid input\")\n"
   ]
  },
  {
   "cell_type": "code",
   "execution_count": null,
   "metadata": {},
   "outputs": [],
   "source": []
  }
 ],
 "metadata": {
  "kernelspec": {
   "display_name": "Python 3",
   "language": "python",
   "name": "python3"
  },
  "language_info": {
   "codemirror_mode": {
    "name": "ipython",
    "version": 3
   },
   "file_extension": ".py",
   "mimetype": "text/x-python",
   "name": "python",
   "nbconvert_exporter": "python",
   "pygments_lexer": "ipython3",
   "version": "3.7.4"
  }
 },
 "nbformat": 4,
 "nbformat_minor": 2
}
