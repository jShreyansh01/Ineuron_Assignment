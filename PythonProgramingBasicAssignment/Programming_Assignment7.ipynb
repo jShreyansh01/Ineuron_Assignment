{
 "cells": [
  {
   "cell_type": "markdown",
   "id": "a5d3bb5c",
   "metadata": {},
   "source": [
    "#### 1.\tWrite a Python Program to find sum of array?"
   ]
  },
  {
   "cell_type": "code",
   "execution_count": 9,
   "id": "3158ae03",
   "metadata": {},
   "outputs": [
    {
     "name": "stdout",
     "output_type": "stream",
     "text": [
      "enter space separated values: 2 3 4 5\n",
      "14\n"
     ]
    }
   ],
   "source": [
    "def arrSum(a):\n",
    "    \n",
    "    if len(a)==1:\n",
    "        return a[0]\n",
    "    \n",
    "    return a[0]+arrSum(a[1:])\n",
    "array = [int(x) for x in input('enter space separated values: ').split()]\n",
    "print(arrSum(array))"
   ]
  },
  {
   "cell_type": "markdown",
   "id": "d3f8cdb8",
   "metadata": {},
   "source": [
    "#### 2.\tWrite a Python Program to find largest element in an array?"
   ]
  },
  {
   "cell_type": "code",
   "execution_count": 11,
   "id": "96249351",
   "metadata": {},
   "outputs": [
    {
     "name": "stdout",
     "output_type": "stream",
     "text": [
      "input space separated arry vAlues: 1 2 3 4 5\n",
      "5\n"
     ]
    }
   ],
   "source": [
    "def largestElement(a):\n",
    "    largest = -99999\n",
    "    for i in a:\n",
    "        if i> largest:\n",
    "            largest = i\n",
    "    return largest\n",
    "\n",
    "array = [int(x) for x in input(\"input space separated arry vAlues: \").split()]\n",
    "print(largestElement(array))\n",
    "    "
   ]
  },
  {
   "cell_type": "markdown",
   "id": "bd05195b",
   "metadata": {},
   "source": [
    "#### 3.\tWrite a Python Program for array rotation?"
   ]
  },
  {
   "cell_type": "code",
   "execution_count": 32,
   "id": "790a4fbd",
   "metadata": {},
   "outputs": [
    {
     "name": "stdout",
     "output_type": "stream",
     "text": [
      "input space separated arry vAlues: 1 2 3 4 5 6\n",
      "3\n",
      "[4, 5, 6, 1, 2, 3]\n"
     ]
    }
   ],
   "source": [
    "def arrayRotation(a,r):\n",
    "    for i in range(r):\n",
    "        temp = a[0]\n",
    "        for i in range(1,len(a)):\n",
    "            a[i-1] = a[i]\n",
    "        a[len(a)-1] = temp\n",
    "    return a\n",
    "\n",
    "array = [int(x) for x in input(\"input space separated arry vAlues: \").split()]\n",
    "rotation = int(input())\n",
    "\n",
    "print(arrayRotation(array,rotation))"
   ]
  },
  {
   "cell_type": "markdown",
   "id": "0d7de22b",
   "metadata": {},
   "source": [
    "#### 4.\tWrite a Python Program to Split the array and add the first part to the end?"
   ]
  },
  {
   "cell_type": "code",
   "execution_count": 31,
   "id": "47148ad3",
   "metadata": {},
   "outputs": [
    {
     "name": "stdout",
     "output_type": "stream",
     "text": [
      "1 2 3 4 5\n",
      "3\n",
      "[4, 5, 1, 2, 3]\n"
     ]
    }
   ],
   "source": [
    "def splitAddArray(a, n, k): \n",
    "    b = a[:k]\n",
    "    return (a[k::]+b[::])\n",
    "          \n",
    "array = [int(x) for x in input().split()]\n",
    "n = len(array)\n",
    "position = int(input())\n",
    "print(splitAddArray(array,n,position))"
   ]
  },
  {
   "cell_type": "markdown",
   "id": "72d05682",
   "metadata": {},
   "source": [
    "#### 5.\tWrite a Python Program to check if given array is Monotonic?"
   ]
  },
  {
   "cell_type": "code",
   "execution_count": 35,
   "id": "a34adcd6",
   "metadata": {},
   "outputs": [
    {
     "name": "stdout",
     "output_type": "stream",
     "text": [
      "input space separated arry vAlues: 4 3 2 1\n",
      "True\n"
     ]
    }
   ],
   "source": [
    "def increasingMonotonic(a):\n",
    "    for i in range(len(a)-1):\n",
    "        if a[i]<a[i+1]:\n",
    "            return False\n",
    "    return True\n",
    "\n",
    "def decreasingMonotonic(a):\n",
    "    for i in range(len(a)-1):\n",
    "        if a[i]>a[i+1]:\n",
    "            return False\n",
    "    return True\n",
    " \n",
    "def monotonic(a):\n",
    "    return increasingMonotonic(a) or decreasingMonotonic(a)\n",
    "\n",
    "array= [int(x) for x in input(\"input space separated arry vAlues: \").split()]\n",
    "print(monotonic(array))"
   ]
  },
  {
   "cell_type": "code",
   "execution_count": null,
   "id": "cde77456",
   "metadata": {},
   "outputs": [],
   "source": []
  }
 ],
 "metadata": {
  "kernelspec": {
   "display_name": "Python 3",
   "language": "python",
   "name": "python3"
  },
  "language_info": {
   "codemirror_mode": {
    "name": "ipython",
    "version": 3
   },
   "file_extension": ".py",
   "mimetype": "text/x-python",
   "name": "python",
   "nbconvert_exporter": "python",
   "pygments_lexer": "ipython3",
   "version": "3.8.8"
  }
 },
 "nbformat": 4,
 "nbformat_minor": 5
}
