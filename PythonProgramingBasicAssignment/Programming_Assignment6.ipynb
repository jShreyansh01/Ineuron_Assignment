{
 "cells": [
  {
   "cell_type": "markdown",
   "metadata": {},
   "source": [
    "## Write a Python Program to Display Fibonacci Sequence Using Recursion?"
   ]
  },
  {
   "cell_type": "code",
   "execution_count": 4,
   "metadata": {},
   "outputs": [
    {
     "name": "stdout",
     "output_type": "stream",
     "text": [
      "no of terms6\n",
      "Fibonacci sequence: 0 1 1 2 3 5 "
     ]
    }
   ],
   "source": [
    "def recursion_fibonacci(n):  \n",
    "    if n <= 1:  \n",
    "        return n  \n",
    "    else:  \n",
    "        return(recursion_fibonacci(n-1) + recursion_fibonacci(n-2))  \n",
    "\n",
    "n = int(input(\"no of terms\"))    \n",
    "if n <= 0:  \n",
    "    print(\"Plese enter a positive integer\")  \n",
    "else:  \n",
    "    print(\"Fibonacci sequence:\" , end=\" \")  \n",
    "    for i in range(n):  \n",
    "        print(recursion_fibonacci(i), end=\" \")  "
   ]
  },
  {
   "cell_type": "markdown",
   "metadata": {},
   "source": [
    "## Write a Python Program to Find Factorial of Number Using Recursion?"
   ]
  },
  {
   "cell_type": "code",
   "execution_count": 14,
   "metadata": {},
   "outputs": [
    {
     "name": "stdout",
     "output_type": "stream",
     "text": [
      "input num: 5\n",
      "Factotical:  120\n"
     ]
    }
   ],
   "source": [
    "def factorial(n):\n",
    "    if n<=1:\n",
    "        return 1\n",
    "    else:\n",
    "        return(factorial(n-1)*n)\n",
    "\n",
    "n = int(input(\"input num: \"))    \n",
    "if n < 0:  \n",
    "    print(\"Plese enter a positive integer\")  \n",
    "else:  \n",
    "    print(\"Factotical: \" , end=\" \")  \n",
    "    print(factorial(n))"
   ]
  },
  {
   "cell_type": "markdown",
   "metadata": {},
   "source": [
    "## Write a Python Program to calculate your Body Mass Index?"
   ]
  },
  {
   "cell_type": "code",
   "execution_count": 21,
   "metadata": {},
   "outputs": [
    {
     "name": "stdout",
     "output_type": "stream",
     "text": [
      "enter weight(kg) and height(m)16.9 1.054\n",
      "15.212671345088197\n"
     ]
    }
   ],
   "source": [
    "def BMI(w,h):\n",
    "    return w/(h*h)\n",
    "\n",
    "weight, height = [float(x) for x in input(\"enter weight(kg) and height(m)\").split()]\n",
    "print(BMI(weight,height))"
   ]
  },
  {
   "cell_type": "markdown",
   "metadata": {},
   "source": [
    "## Write a Python Program to calculate the natural logarithm of any number?"
   ]
  },
  {
   "cell_type": "code",
   "execution_count": 25,
   "metadata": {},
   "outputs": [
    {
     "name": "stdout",
     "output_type": "stream",
     "text": [
      "enter num: 0.5\n",
      "-0.6929070095474943\n"
     ]
    }
   ],
   "source": [
    "def ln(x):\n",
    "    n=1000 # n tends to infinity\n",
    "    return n*((x**(1/n))-1)\n",
    "\n",
    "n = float(input(\"enter num: \"))\n",
    "print(ln(n))"
   ]
  },
  {
   "cell_type": "markdown",
   "metadata": {},
   "source": [
    "## Write a Python Program for cube sum of first n natural numbers?"
   ]
  },
  {
   "cell_type": "code",
   "execution_count": 27,
   "metadata": {},
   "outputs": [
    {
     "name": "stdout",
     "output_type": "stream",
     "text": [
      "enter no of terms3\n",
      "36\n"
     ]
    }
   ],
   "source": [
    "def cube_sum(n):\n",
    "    if n == 1:\n",
    "        return 1\n",
    "    return (n**3)+cube_sum(n-1)\n",
    "\n",
    "n = int(input(\"enter no of terms\"))\n",
    "if n<=0:\n",
    "    print(\"invalid input: \")\n",
    "print(cube_sum(n))"
   ]
  },
  {
   "cell_type": "code",
   "execution_count": null,
   "metadata": {},
   "outputs": [],
   "source": []
  }
 ],
 "metadata": {
  "kernelspec": {
   "display_name": "Python 3",
   "language": "python",
   "name": "python3"
  },
  "language_info": {
   "codemirror_mode": {
    "name": "ipython",
    "version": 3
   },
   "file_extension": ".py",
   "mimetype": "text/x-python",
   "name": "python",
   "nbconvert_exporter": "python",
   "pygments_lexer": "ipython3",
   "version": "3.8.8"
  }
 },
 "nbformat": 4,
 "nbformat_minor": 2
}
