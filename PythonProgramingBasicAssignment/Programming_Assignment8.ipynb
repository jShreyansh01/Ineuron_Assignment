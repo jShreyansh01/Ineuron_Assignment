{
 "cells": [
  {
   "cell_type": "markdown",
   "id": "a76854e8",
   "metadata": {},
   "source": [
    "#### 1.\tWrite a Python Program to Add Two Matrices?"
   ]
  },
  {
   "cell_type": "code",
   "execution_count": 19,
   "id": "5028bf27",
   "metadata": {},
   "outputs": [
    {
     "name": "stdout",
     "output_type": "stream",
     "text": [
      "Enter the Number of rows : 2\n",
      "Enter the Number of Columns: 2\n",
      "Enter the elements of First Matrix:\n",
      "1\n",
      "2\n",
      "3\n",
      "4\n",
      "First Matrix is: \n",
      "[1, 2]\n",
      "[3, 4]\n",
      "Enter the elements of Second Matrix:\n",
      "1\n",
      "2\n",
      "3\n",
      "4\n",
      "[1, 2]\n",
      "[3, 4]\n",
      "The Sum of Above two Matrices is : \n",
      "[2, 4]\n",
      "[6, 8]\n"
     ]
    }
   ],
   "source": [
    "def maticesSum(row,column):\n",
    "    print(\"Enter the elements of First Matrix:\")\n",
    "    matrix_a= [[int(input()) for i in range(column)] for i in range(rows)]\n",
    "    print(\"First Matrix is: \")\n",
    "    for n in matrix_a:\n",
    "        print(n)\n",
    "\n",
    "    print(\"Enter the elements of Second Matrix:\")\n",
    "    matrix_b= [[int(input()) for i in range(column)] for i in range(rows)]\n",
    "    for n in matrix_b:\n",
    "        print(n)\n",
    "    \n",
    "    result=[[0 for i in range(column)] for i in range(rows)]\n",
    "    for i in range(rows):\n",
    "        for j in range(column):\n",
    "            result[i][j] = matrix_a[i][j]+matrix_b[i][j]\n",
    "            \n",
    "    return result\n",
    "    \n",
    "    \n",
    "rows = int(input(\"Enter the Number of rows : \" ))\n",
    "column = int(input(\"Enter the Number of Columns: \"))\n",
    "\n",
    "sumation = maticesSum(rows,column)\n",
    "\n",
    "print(\"The Sum of Above two Matrices is : \")\n",
    "for i in sumation:\n",
    "    print(i)"
   ]
  },
  {
   "cell_type": "markdown",
   "id": "0848f6ba",
   "metadata": {},
   "source": [
    "#### 2.\tWrite a Python Program to Multiply Two Matrices?"
   ]
  },
  {
   "cell_type": "code",
   "execution_count": 31,
   "id": "a2fab45e",
   "metadata": {},
   "outputs": [
    {
     "name": "stdout",
     "output_type": "stream",
     "text": [
      "Enter the Number of rows in first matrix: 2\n",
      "Enter the Number of Columns in first matrix: 2\n",
      "Enter the elements of First Matrix:\n",
      "2\n",
      "3\n",
      "4\n",
      "5\n",
      "First Matrix is: \n",
      "[2, 3]\n",
      "[4, 5]\n",
      "Enter the Number of rows in Second matrix: 2\n",
      "Enter the Number of Columns in Second matrix: 3\n",
      "Enter the elements of First Matrix:\n",
      "1\n",
      "2\n",
      "3\n",
      "4\n",
      "5\n",
      "6\n",
      "Second Matrix is: \n",
      "[1, 2, 3]\n",
      "[4, 5, 6]\n",
      "The multiplication of Above two Matrices is : \n",
      "[14, 19, 24]\n",
      "[24, 33, 42]\n"
     ]
    }
   ],
   "source": [
    "rows1 = int(input(\"Enter the Number of rows in first matrix: \" ))\n",
    "column1 = int(input(\"Enter the Number of Columns in first matrix: \"))\n",
    "print(\"Enter the elements of First Matrix:\")\n",
    "matrix_a= [[int(input()) for i in range(column1)] for i in range(rows1)]\n",
    "print(\"First Matrix is: \")\n",
    "for n in matrix_a:\n",
    "    print(n)\n",
    "        \n",
    "rows2 = int(input(\"Enter the Number of rows in Second matrix: \" ))\n",
    "column2 = int(input(\"Enter the Number of Columns in Second matrix: \"))\n",
    "print(\"Enter the elements of First Matrix:\")\n",
    "matrix_b= [[int(input()) for i in range(column2)] for i in range(rows2)]\n",
    "print(\"Second Matrix is: \")\n",
    "for n in matrix_b:\n",
    "    print(n)\n",
    "\n",
    "result=[[0 for i in range(column2)] for i in range(rows1)]\n",
    "for i in range(rows1):\n",
    "    for j in range(column2):\n",
    "        for k in range(rows2):\n",
    "            result[i][j] += matrix_a[i][k] * matrix_b[k][j]\n",
    "\n",
    "print(\"The multiplication of Above two Matrices is : \")\n",
    "for n in result:\n",
    "    print(n)\n",
    "           "
   ]
  },
  {
   "cell_type": "markdown",
   "id": "f8ea4acd",
   "metadata": {},
   "source": [
    "#### 3.\tWrite a Python Program to Transpose a Matrix?"
   ]
  },
  {
   "cell_type": "code",
   "execution_count": 2,
   "id": "0b981c16",
   "metadata": {},
   "outputs": [
    {
     "name": "stdout",
     "output_type": "stream",
     "text": [
      "Enter the Number of rows in first matrix: 3\n",
      "Enter the Number of Columns in first matrix: 4\n",
      "Enter the elements:\n",
      "1\n",
      "2\n",
      "3\n",
      "4\n",
      "5\n",
      "6\n",
      "7\n",
      "8\n",
      "9\n",
      "10\n",
      "11\n",
      "12\n",
      "Matrix is: \n",
      "[1, 2, 3, 4]\n",
      "[5, 6, 7, 8]\n",
      "[9, 10, 11, 12]\n",
      "transpose of matrix is\n",
      "[1, 5, 9]\n",
      "[2, 6, 10]\n",
      "[3, 7, 11]\n",
      "[4, 8, 12]\n"
     ]
    }
   ],
   "source": [
    "rows = int(input(\"Enter the Number of rows in first matrix: \" ))\n",
    "column = int(input(\"Enter the Number of Columns in first matrix: \"))\n",
    "print(\"Enter the elements:\")\n",
    "matrix_a= [[int(input()) for i in range(column)] for i in range(rows)]\n",
    "print(\"Matrix is: \")\n",
    "for n in matrix_a:\n",
    "    print(n)\n",
    "    \n",
    "transpose = [[0 for i in range(rows)] for i in range(column)]\n",
    "for i in range(rows):\n",
    "        for j in range(column):\n",
    "            transpose[j][i] = matrix_a[i][j]\n",
    "print(\"transpose of matrix is\")\n",
    "for n in transpose:\n",
    "    print(n)"
   ]
  },
  {
   "cell_type": "markdown",
   "id": "1b0013ec",
   "metadata": {},
   "source": [
    "#### 4.\tWrite a Python Program to Sort Words in Alphabetic Order?"
   ]
  },
  {
   "cell_type": "code",
   "execution_count": 5,
   "id": "d0a95ef2",
   "metadata": {},
   "outputs": [
    {
     "name": "stdout",
     "output_type": "stream",
     "text": [
      "enter text: hello from the other side\n",
      "from hello other side the "
     ]
    }
   ],
   "source": [
    "text = input(\"enter text: \").split()\n",
    "\n",
    "text = sorted(text)\n",
    "\n",
    "for word in text:\n",
    "    print(word, end=\" \")\n",
    "\n"
   ]
  },
  {
   "cell_type": "markdown",
   "id": "8469f472",
   "metadata": {},
   "source": [
    "#### 5.\tWrite a Python Program to Remove Punctuation From a String?"
   ]
  },
  {
   "cell_type": "code",
   "execution_count": 7,
   "id": "2fed69d6",
   "metadata": {},
   "outputs": [
    {
     "name": "stdout",
     "output_type": "stream",
     "text": [
      "enter text: hello-., from..,  the __other.. side\n",
      "hello from  the other side\n"
     ]
    }
   ],
   "source": [
    "punctuations = '''!()-[]{};:'\"\\,<>./?@#$%^&*_~'''\n",
    "\n",
    "text = input(\"enter text: \")\n",
    "\n",
    "result = \"\"\n",
    "for letter in text:\n",
    "    if letter not in punctuations:\n",
    "        result += letter\n",
    "print(result)"
   ]
  },
  {
   "cell_type": "code",
   "execution_count": null,
   "id": "b234ad18",
   "metadata": {},
   "outputs": [],
   "source": []
  }
 ],
 "metadata": {
  "kernelspec": {
   "display_name": "Python 3",
   "language": "python",
   "name": "python3"
  },
  "language_info": {
   "codemirror_mode": {
    "name": "ipython",
    "version": 3
   },
   "file_extension": ".py",
   "mimetype": "text/x-python",
   "name": "python",
   "nbconvert_exporter": "python",
   "pygments_lexer": "ipython3",
   "version": "3.8.8"
  }
 },
 "nbformat": 4,
 "nbformat_minor": 5
}
