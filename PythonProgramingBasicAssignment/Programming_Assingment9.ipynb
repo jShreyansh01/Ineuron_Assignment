{
 "cells": [
  {
   "cell_type": "markdown",
   "id": "cfc9aaf3",
   "metadata": {},
   "source": [
    "1.\tWrite a Python program to check if the given number is a Disarium Number?\n",
    "2.\tWrite a Python program to print all disarium numbers between 1 to 100?\n",
    "3.\tWrite a Python program to check if the given number is Happy Number?\n",
    "4.\tWrite a Python program to print all happy numbers between 1 and 100?\n",
    "5.\tWrite a Python program to determine whether the given number is a Harshad Number?\n",
    "6.\tWrite a Python program to print all pronic numbers between 1 and 100?\n"
   ]
  },
  {
   "cell_type": "markdown",
   "id": "82fcd44d",
   "metadata": {},
   "source": [
    "#### 1.\tWrite a Python program to check if the given number is a Disarium Number?"
   ]
  },
  {
   "cell_type": "code",
   "execution_count": 4,
   "id": "303af490",
   "metadata": {},
   "outputs": [
    {
     "name": "stdout",
     "output_type": "stream",
     "text": [
      "number is a disarium number\n"
     ]
    }
   ],
   "source": [
    "def disarium(num):\n",
    "    x = str(num)\n",
    "    s = 0\n",
    "    for i in range(len(x)):\n",
    "        s += int(x[i])**(i+1)\n",
    "    if s == num:\n",
    "        print('number is a disarium number')\n",
    "    else:\n",
    "        print('number is not a disarium number')\n",
    "\n",
    "disarium(175)"
   ]
  },
  {
   "cell_type": "markdown",
   "id": "35906316",
   "metadata": {},
   "source": [
    "#### 2.\tWrite a Python program to print all disarium numbers between 1 to 100?"
   ]
  },
  {
   "cell_type": "code",
   "execution_count": 6,
   "id": "8b5fcab8",
   "metadata": {},
   "outputs": [
    {
     "name": "stdout",
     "output_type": "stream",
     "text": [
      "1 2 3 4 5 6 7 8 9 89 "
     ]
    }
   ],
   "source": [
    "def disarium(num):\n",
    "    x = str(num)\n",
    "    s = 0\n",
    "    for i in range(len(x)):\n",
    "        s += int(x[i])**(i+1)\n",
    "    if s == num:\n",
    "        print(num,end=\" \")\n",
    "        \n",
    "for num in range(1,100):\n",
    "    disarium(num)"
   ]
  },
  {
   "cell_type": "markdown",
   "id": "2b22b9c5",
   "metadata": {},
   "source": [
    "#### 3.\tWrite a Python program to check if the given number is Happy Number?"
   ]
  },
  {
   "cell_type": "code",
   "execution_count": 24,
   "id": "52747fcf",
   "metadata": {},
   "outputs": [
    {
     "name": "stdout",
     "output_type": "stream",
     "text": [
      "enter a no: 79\n",
      "number is a happy number\n"
     ]
    }
   ],
   "source": [
    "def digitSquareSum(num):\n",
    "    s = 0\n",
    "    while(num>0):\n",
    "        temp = num % 10\n",
    "        s += temp*temp\n",
    "        num = num//10\n",
    "    return s\n",
    "\n",
    "def happyNumber(num):\n",
    "    result = num\n",
    "    while(result != 1 and result != 4):\n",
    "        result = digitSquareSum(result)\n",
    "    if result == 1:\n",
    "        print(\"number is a happy number\")\n",
    "    else:\n",
    "        print(\"number is not a happy number\")\n",
    "        \n",
    "happyNumber(int(input(\"enter a no: \")))"
   ]
  },
  {
   "cell_type": "markdown",
   "id": "41fc9aa5",
   "metadata": {},
   "source": [
    "#### 4.\tWrite a Python program to print all happy numbers between 1 and 100?"
   ]
  },
  {
   "cell_type": "code",
   "execution_count": 25,
   "id": "090a7fa7",
   "metadata": {},
   "outputs": [
    {
     "name": "stdout",
     "output_type": "stream",
     "text": [
      "1 7 10 13 19 23 28 31 32 44 49 68 70 79 82 86 91 94 97 "
     ]
    }
   ],
   "source": [
    "def digitSquareSum(num):\n",
    "    s = 0\n",
    "    while(num>0):\n",
    "        temp = num % 10\n",
    "        s += temp*temp\n",
    "        num = num//10\n",
    "    return s\n",
    "\n",
    "def happyNumber(num):\n",
    "    result = num\n",
    "    while(result != 1 and result != 4):\n",
    "        result = digitSquareSum(result)\n",
    "    if result == 1:\n",
    "        print(num,end=\" \")\n",
    "        \n",
    "for i in range(1,100):\n",
    "    happyNumber(i)"
   ]
  },
  {
   "cell_type": "markdown",
   "id": "79c9350c",
   "metadata": {},
   "source": [
    "#### 5.\tWrite a Python program to determine whether the given number is a Harshad Number?"
   ]
  },
  {
   "cell_type": "code",
   "execution_count": 28,
   "id": "072c1f16",
   "metadata": {},
   "outputs": [
    {
     "name": "stdout",
     "output_type": "stream",
     "text": [
      "number is a harshad Number\n"
     ]
    }
   ],
   "source": [
    "def harshadNumber(num):\n",
    "    n = num\n",
    "    digitSum = 0\n",
    "    while(n>0):\n",
    "        temp = n%10\n",
    "        digitSum = temp*temp\n",
    "        n = n//10\n",
    "    if num%digitSum == 0:\n",
    "        print(\"number is a harshad Number\")\n",
    "    else:\n",
    "        print(\"number is not a harshad Number\")\n",
    "        \n",
    "harshadNumber(378)\n",
    "        \n",
    "        "
   ]
  },
  {
   "cell_type": "markdown",
   "id": "1bfa6fdc",
   "metadata": {},
   "source": [
    "#### 6.\tWrite a Python program to print all pronic numbers between 1 and 100?"
   ]
  },
  {
   "cell_type": "code",
   "execution_count": 29,
   "id": "9afe6dcf",
   "metadata": {},
   "outputs": [
    {
     "name": "stdout",
     "output_type": "stream",
     "text": [
      "2 6 12 20 30 42 56 72 90 "
     ]
    }
   ],
   "source": [
    "def pronicNumber(num):\n",
    "    for i in range(1,num + 1):\n",
    "        if i*(i+1) == num:\n",
    "            print(num, end=' ')\n",
    "\n",
    "for i in range(1,100):\n",
    "    pronicNumber(i)\n",
    "        "
   ]
  },
  {
   "cell_type": "code",
   "execution_count": null,
   "id": "263cbf41",
   "metadata": {},
   "outputs": [],
   "source": []
  }
 ],
 "metadata": {
  "kernelspec": {
   "display_name": "Python 3",
   "language": "python",
   "name": "python3"
  },
  "language_info": {
   "codemirror_mode": {
    "name": "ipython",
    "version": 3
   },
   "file_extension": ".py",
   "mimetype": "text/x-python",
   "name": "python",
   "nbconvert_exporter": "python",
   "pygments_lexer": "ipython3",
   "version": "3.8.8"
  }
 },
 "nbformat": 4,
 "nbformat_minor": 5
}
