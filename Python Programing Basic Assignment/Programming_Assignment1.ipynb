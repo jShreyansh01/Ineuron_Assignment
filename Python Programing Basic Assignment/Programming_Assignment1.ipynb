{
 "cells": [
  {
   "cell_type": "markdown",
   "metadata": {},
   "source": [
    "### 1.\tWrite a Python program to print \"Hello Python\"?"
   ]
  },
  {
   "cell_type": "code",
   "execution_count": 1,
   "metadata": {},
   "outputs": [
    {
     "name": "stdout",
     "output_type": "stream",
     "text": [
      "Hello Python\n"
     ]
    }
   ],
   "source": [
    "print(\"Hello Python\")"
   ]
  },
  {
   "cell_type": "markdown",
   "metadata": {},
   "source": [
    "### 2.\tWrite a Python program to do arithmetical operations addition and division.?"
   ]
  },
  {
   "cell_type": "code",
   "execution_count": 3,
   "metadata": {},
   "outputs": [
    {
     "name": "stdout",
     "output_type": "stream",
     "text": [
      "enter first number 20\n",
      "enter second number 5\n",
      "The addition of 20.0 and 5.0 is 25.0\n",
      "The division of 20.0 and 5.0 is 4.0\n"
     ]
    }
   ],
   "source": [
    "num1 = float(input(\"enter first number: \"))\n",
    "num2 = float(input (\"enter second number: \"))\n",
    "\n",
    "#addition\n",
    "sum = num1 + num2\n",
    "\n",
    "#division\n",
    "div = num1 / num2\n",
    "\n",
    "print('The addition of {} and {} is {}'.format(num1, num2, sum))\n",
    "print('The division of {} and {} is {}'.format(num1, num2, div))  "
   ]
  },
  {
   "cell_type": "markdown",
   "metadata": {},
   "source": [
    "### 3.\tWrite a Python program to find the area of a triangle?"
   ]
  },
  {
   "cell_type": "code",
   "execution_count": 12,
   "metadata": {},
   "outputs": [
    {
     "name": "stdout",
     "output_type": "stream",
     "text": [
      "enter space separated sides of triangle: 3 4 5\n",
      "Area of triangle whose sides are 3.0, 4.0 and 5.0 is 6.0\n"
     ]
    }
   ],
   "source": [
    "a,b,c = input(\"enter space separated sides of triangle: \").split()\n",
    "a,b,c = float(a),float(b),float(c)\n",
    "#calculating area\n",
    "s = (a + b + c) / 2\n",
    "area = (s*(s-a)*(s-b)*(s-c)) ** 0.5\n",
    "\n",
    "print(\"Area of triangle whose sides are {}, {} and {} is {}\".format(a, b, c, area))"
   ]
  },
  {
   "cell_type": "markdown",
   "metadata": {},
   "source": [
    "### 4.\tWrite a Python program to swap two variables?"
   ]
  },
  {
   "cell_type": "code",
   "execution_count": 15,
   "metadata": {},
   "outputs": [
    {
     "name": "stdout",
     "output_type": "stream",
     "text": [
      "enter two space separated values: 34 56\n",
      "before swaping (34,56)\n",
      "after swaping (56,34)\n"
     ]
    }
   ],
   "source": [
    "a,b = input(\"enter two space separated values: \").split()\n",
    "print(\"before swaping ({},{})\".format(a,b))\n",
    "\n",
    "#swapping\n",
    "a,b = b,a\n",
    "print(\"after swaping ({},{})\".format(a,b ))"
   ]
  },
  {
   "cell_type": "markdown",
   "metadata": {},
   "source": [
    "### 5.\tWrite a Python program to generate a random number?"
   ]
  },
  {
   "cell_type": "code",
   "execution_count": 23,
   "metadata": {},
   "outputs": [
    {
     "name": "stdout",
     "output_type": "stream",
     "text": [
      "enter range as space separated numbers: 50 100\n",
      "67\n"
     ]
    }
   ],
   "source": [
    "import random\n",
    "\n",
    "a,b = input(\"enter range as space separated numbers: \").split()\n",
    "a,b = int(a),int(b)\n",
    "print(random.randint(a,b))"
   ]
  }
 ],
 "metadata": {
  "kernelspec": {
   "display_name": "Python 3",
   "language": "python",
   "name": "python3"
  },
  "language_info": {
   "codemirror_mode": {
    "name": "ipython",
    "version": 3
   },
   "file_extension": ".py",
   "mimetype": "text/x-python",
   "name": "python",
   "nbconvert_exporter": "python",
   "pygments_lexer": "ipython3",
   "version": "3.7.4"
  }
 },
 "nbformat": 4,
 "nbformat_minor": 2
}
